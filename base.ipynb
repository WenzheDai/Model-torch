{
 "cells": [
  {
   "cell_type": "markdown",
   "id": "6260ea1a",
   "metadata": {},
   "source": [
    "# pytorch"
   ]
  },
  {
   "cell_type": "markdown",
   "id": "72623750",
   "metadata": {},
   "source": [
    "### 基础数据类型"
   ]
  },
  {
   "cell_type": "code",
   "execution_count": 5,
   "id": "20052f92",
   "metadata": {},
   "outputs": [
    {
     "data": {
      "text/plain": [
       "(tensor([[0., 0.],\n",
       "         [0., 0.]]),\n",
       " tensor([[1., 1.],\n",
       "         [1., 1.]], dtype=torch.float64),\n",
       " tensor([[9.7347e-39, 9.0919e-39],\n",
       "         [1.0102e-38, 4.5919e-39]]),\n",
       " tensor([[1., 2.],\n",
       "         [3., 4.]]),\n",
       " tensor([[0., 0.],\n",
       "         [0., 0.]]),\n",
       " tensor([[1., 1.],\n",
       "         [1., 1.]]),\n",
       " tensor([[1., 0.],\n",
       "         [0., 1.]]),\n",
       " tensor([[-2.0615,  0.9363],\n",
       "         [ 2.7582,  0.9815]]),\n",
       " tensor([3, 1, 2, 0]),\n",
       " tensor([ 1,  3,  5,  7,  9, 11, 13, 15, 17, 19]))"
      ]
     },
     "execution_count": 5,
     "metadata": {},
     "output_type": "execute_result"
    }
   ],
   "source": [
    "import torch\n",
    "\n",
    "a = torch.Tensor(2,2)\n",
    "\n",
    "b = torch.DoubleTensor(2,2)\n",
    "\n",
    "c = torch.FloatTensor(2,2)\n",
    "\n",
    "d = torch.Tensor([[1, 2], [3, 4]])\n",
    "\n",
    "e = torch.zeros(2, 2)\n",
    "\n",
    "f = torch.ones(2, 2)\n",
    "\n",
    "g = torch.eye(2, 2)\n",
    "\n",
    "h = torch.randn(2, 2)\n",
    "\n",
    "i = torch.randperm(4)\n",
    "\n",
    "j = torch.arange(1, 20, 2)\n",
    "\n",
    "a, b, c, d, e, f, g, h, i, j"
   ]
  },
  {
   "cell_type": "markdown",
   "id": "d6963b3f",
   "metadata": {},
   "source": [
    "### 运算"
   ]
  },
  {
   "cell_type": "code",
   "execution_count": 14,
   "id": "fe279208",
   "metadata": {},
   "outputs": [
    {
     "name": "stdout",
     "output_type": "stream",
     "text": [
      "tensor([[ 0.8862, -0.1900, -0.1777],\n",
      "        [ 0.5224, -0.6162,  0.0290]])\n",
      "abs  a: tensor([[0.8862, 0.1900, 0.1777],\n",
      "        [0.5224, 0.6162, 0.0290]])\n",
      "add a+b to c: tensor([[1.7724, 0.0000, 0.0000],\n",
      "        [1.0447, 0.0000, 0.0579]])\n",
      "clamp c to d:  tensor([[1.0000, 0.5000, 0.5000],\n",
      "        [1.0000, 0.5000, 0.5000]])\n",
      "c div d to e: tensor([[1.7724, 0.0000, 0.0000],\n",
      "        [1.0447, 0.0000, 0.1158]])\n",
      "a pow 2 to f : tensor([[0.7853, 0.0361, 0.0316],\n",
      "        [0.2729, 0.3797, 0.0008]])\n",
      "a * b to g: tensor([[ 0.7176,  0.3406],\n",
      "        [ 0.3509, -0.1060]])\n",
      "(2, 3) * (3): tensor([ 1.3230, -0.0935])\n"
     ]
    }
   ],
   "source": [
    "import torch\n",
    "\n",
    "a = torch.randn(2, 3)\n",
    "\n",
    "print(a)\n",
    "\n",
    "b = torch.abs(a)\n",
    "\n",
    "print(\"abs  a:\", b)\n",
    "\n",
    "c = torch.add(a, b)\n",
    "\n",
    "print(\"add a+b to c:\", c)\n",
    "\n",
    "d = torch.clamp(c, 0.5, 1)\n",
    "\n",
    "print(\"clamp c to d: \", d)\n",
    "\n",
    "e = torch.div(c, d)\n",
    "\n",
    "print(\"c div d to e:\", e)\n",
    "\n",
    "f = torch.pow(a, 2)\n",
    "\n",
    "print(\"a pow 2 to f :\", f)\n",
    "\n",
    "##矩阵乘\n",
    "g = torch.mm(a, b.T)\n",
    "\n",
    "print(\"a * b to g:\", g)\n",
    "\n",
    "##矩阵向量乘\n",
    "h = torch.mv(torch.randn(2, 3), torch.randn(3))\n",
    "\n",
    "print(\"(2, 3) * (3):\", h)"
   ]
  },
  {
   "cell_type": "code",
   "execution_count": null,
   "id": "caffff31",
   "metadata": {},
   "outputs": [],
   "source": []
  }
 ],
 "metadata": {
  "kernelspec": {
   "display_name": "pytorch",
   "language": "python",
   "name": "pytorch-test"
  },
  "language_info": {
   "codemirror_mode": {
    "name": "ipython",
    "version": 3
   },
   "file_extension": ".py",
   "mimetype": "text/x-python",
   "name": "python",
   "nbconvert_exporter": "python",
   "pygments_lexer": "ipython3",
   "version": "3.9.15"
  }
 },
 "nbformat": 4,
 "nbformat_minor": 5
}
